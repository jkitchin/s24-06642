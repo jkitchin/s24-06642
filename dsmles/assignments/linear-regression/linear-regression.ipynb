{
 "cells": [
  {
   "cell_type": "markdown",
   "id": "2cb7ef5d-98cf-46c7-bab6-7fb158846d4a",
   "metadata": {},
   "source": [
    "# Linear regression"
   ]
  },
  {
   "cell_type": "markdown",
   "id": "b6d41fdc",
   "metadata": {},
   "source": [
    "Before you turn this problem in, make sure everything runs as expected. First, **restart the kernel** (in the menubar, select Kernel$\\rightarrow$Restart) and then **run all cells** (in the menubar, select Cell$\\rightarrow$Run All).\n",
    "\n",
    "Make sure you fill in any place that says `YOUR CODE HERE` or \"YOUR ANSWER HERE\", as well as your name and collaborators below:\n",
    "\n"
   ]
  },
  {
   "cell_type": "code",
   "execution_count": null,
   "id": "a464c58c",
   "metadata": {},
   "outputs": [],
   "source": [
    "NAME = \"\"\n",
    "COLLABORATORS = \"\"\n",
    "\n"
   ]
  },
  {
   "cell_type": "markdown",
   "id": "0963c0db",
   "metadata": {},
   "source": [
    "# Step 1\n",
    "\n",
    "Download the data at [Pontius.dat](https://itl.nist.gov/div898/strd/lls/data/LINKS/DATA/Pontius.dat). Use numpy.polyfit to fit a second order polynomial. Show the coefficients and a plot. Discuss why you think the fit is reasonable.\n",
    "\n"
   ]
  },
  {
   "cell_type": "code",
   "execution_count": null,
   "id": "b5ad2b8e-ea90-4122-be08-3618e2786b2a",
   "metadata": {},
   "outputs": [],
   "source": []
  },
  {
   "cell_type": "markdown",
   "id": "4d8584c8-1390-4ba7-9e65-6c5dc0687c17",
   "metadata": {},
   "source": [
    "# Step 2\n",
    "Use `sklearn` to fit a second order polynomial to this data. Compare your results to the results you got with `numpy`. "
   ]
  },
  {
   "cell_type": "code",
   "execution_count": null,
   "id": "0f0de12d-c16f-4aac-868c-11f0d072eb3e",
   "metadata": {
    "nbgrader": {
     "grade": true,
     "grade_id": "cell-92da3734a5a2e41e",
     "locked": false,
     "points": 0,
     "schema_version": 3,
     "solution": true,
     "task": false
    },
    "tags": []
   },
   "outputs": [],
   "source": [
    "\n",
    "\n"
   ]
  },
  {
   "cell_type": "markdown",
   "id": "613d1a50-b2bb-41c8-b643-4883566ecee7",
   "metadata": {},
   "source": [
    "When you are done, download a PDF and turn it in on Canvas. Make sure to save your notebook, then run this cell and click on the download link."
   ]
  },
  {
   "cell_type": "code",
   "execution_count": null,
   "id": "d39da989-d274-4dc2-a01a-51a59375ffd9",
   "metadata": {
    "tags": [
     "raises-exception",
     "remove-output"
    ]
   },
   "outputs": [],
   "source": [
    "%run ~/s24-06642/s24.py\n",
    "%pdf"
   ]
  },
  {
   "cell_type": "markdown",
   "id": "6a974f57-c57c-4441-b2c9-4c6bc4a31ff7",
   "metadata": {},
   "source": [
    "\n",
    "\n"
   ]
  }
 ],
 "metadata": {
  "kernelspec": {
   "display_name": "Python 3",
   "language": "python",
   "name": "python3"
  },
  "language_info": {
   "codemirror_mode": {
    "name": "ipython",
    "version": 3
   },
   "file_extension": ".py",
   "mimetype": "text/x-python",
   "name": "python",
   "nbconvert_exporter": "python",
   "pygments_lexer": "ipython3",
   "version": "3.9.7"
  },
  "widgets": {
   "application/vnd.jupyter.widget-state+json": {
    "state": {},
    "version_major": 2,
    "version_minor": 0
   }
  }
 },
 "nbformat": 4,
 "nbformat_minor": 5
}
