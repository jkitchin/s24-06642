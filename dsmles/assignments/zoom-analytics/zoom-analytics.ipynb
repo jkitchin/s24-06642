{
 "cells": [
  {
   "cell_type": "markdown",
   "id": "2cb7ef5d-98cf-46c7-bab6-7fb158846d4a",
   "metadata": {},
   "source": [
    "# Analyzing Zoom meeting data"
   ]
  },
  {
   "cell_type": "markdown",
   "id": "b6d41fdc",
   "metadata": {},
   "source": [
    "Before you turn this problem in, make sure everything runs as expected. First, **restart the kernel** (in the menubar, select Kernel$\\rightarrow$Restart) and then **run all cells** (in the menubar, select Cell$\\rightarrow$Run All).\n",
    "\n",
    "Make sure you fill in any place that says `YOUR CODE HERE` or \"YOUR ANSWER HERE\", as well as your name and collaborators below:\n",
    "\n"
   ]
  },
  {
   "cell_type": "code",
   "execution_count": null,
   "id": "a464c58c",
   "metadata": {},
   "outputs": [],
   "source": [
    "NAME = \"\"\n",
    "COLLABORATORS = \"\"\n",
    "\n"
   ]
  },
  {
   "cell_type": "markdown",
   "id": "0963c0db",
   "metadata": {},
   "source": [
    "We held an online symposium on Catalysis (https://www.youtube.com/channel/UCURlr_JpZvatrGpwaDJVGJw/videos) using Zoom. Zoom collects a lot of data on the meetings, and a sanitized (meaning all personally identifying information has been stripped from it) is available in the file [](./cleaned-attendee-report.csv).\n",
    "\n",
    "In this data file, each attendee is represented by a random string in the Email column.\n",
    "\n",
    "Your tasks are to read this data into Pandas, and then use it to answer the following questions.\n",
    "\n",
    "One hint is to use an arg to read_csv like na_values='--', which will convert those strings to NaN, which is easier to work with.\n",
    "\n",
    "## use df.describe() to summarize the DataFrame.\n",
    "\n",
    "\n"
   ]
  },
  {
   "cell_type": "code",
   "execution_count": null,
   "id": "0f0de12d-c16f-4aac-868c-11f0d072eb3e",
   "metadata": {
    "nbgrader": {
     "grade": true,
     "grade_id": "cell-92da3734a5a2e41e",
     "locked": false,
     "points": 0,
     "schema_version": 3,
     "solution": true,
     "task": false
    },
    "tags": []
   },
   "outputs": [],
   "source": [
    "\n",
    "\n"
   ]
  },
  {
   "cell_type": "markdown",
   "id": "cb53c5a6-e653-4ecb-9682-e364ffc9b107",
   "metadata": {},
   "source": [
    "## How many people registered for the meeting (this is every unique email)?\n"
   ]
  },
  {
   "cell_type": "code",
   "execution_count": null,
   "id": "7f2b52ad-b2b5-4e4f-bccd-b3af328b4426",
   "metadata": {},
   "outputs": [],
   "source": []
  },
  {
   "cell_type": "markdown",
   "id": "5f3e1a0b-342c-4803-a75c-18b74921c934",
   "metadata": {},
   "source": [
    "## How many people attended the symposium (this is every unique email with a numeric Time in Session)?\n"
   ]
  },
  {
   "cell_type": "code",
   "execution_count": null,
   "id": "8ca3e2fa-c479-42ba-8317-ce7e7451ab59",
   "metadata": {},
   "outputs": [],
   "source": []
  },
  {
   "cell_type": "markdown",
   "id": "58e0f68d-212d-4ca0-ad3e-e953b0a4130d",
   "metadata": {},
   "source": [
    "## Make a list of the countries they were from, and count how many there are.\n"
   ]
  },
  {
   "cell_type": "code",
   "execution_count": null,
   "id": "ac8c8a54-9d36-47cb-8044-e440fb41c9c9",
   "metadata": {},
   "outputs": [],
   "source": []
  },
  {
   "cell_type": "markdown",
   "id": "25cc01ce-4d9e-4434-9fa9-365fe42972eb",
   "metadata": {},
   "source": [
    "## Plot a distribution (histogram) of the total time in session for each user. Also compute the average time spent in the session."
   ]
  },
  {
   "cell_type": "code",
   "execution_count": null,
   "id": "25602a94-3246-4183-89f6-34088c91a2aa",
   "metadata": {},
   "outputs": [],
   "source": []
  },
  {
   "cell_type": "markdown",
   "id": "613d1a50-b2bb-41c8-b643-4883566ecee7",
   "metadata": {},
   "source": [
    "When you are done, download a PDF and turn it in on Canvas. Make sure to save your notebook, then run this cell and click on the download link."
   ]
  },
  {
   "cell_type": "code",
   "execution_count": null,
   "id": "d39da989-d274-4dc2-a01a-51a59375ffd9",
   "metadata": {
    "tags": [
     "raises-exception",
     "remove-output"
    ]
   },
   "outputs": [],
   "source": [
    "%run ~/s24-06642/s24.py\n",
    "%pdf"
   ]
  },
  {
   "cell_type": "markdown",
   "id": "6a974f57-c57c-4441-b2c9-4c6bc4a31ff7",
   "metadata": {},
   "source": [
    "\n",
    "\n"
   ]
  }
 ],
 "metadata": {
  "kernelspec": {
   "display_name": "Python 3",
   "language": "python",
   "name": "python3"
  },
  "language_info": {
   "codemirror_mode": {
    "name": "ipython",
    "version": 3
   },
   "file_extension": ".py",
   "mimetype": "text/x-python",
   "name": "python",
   "nbconvert_exporter": "python",
   "pygments_lexer": "ipython3",
   "version": "3.9.7"
  },
  "widgets": {
   "application/vnd.jupyter.widget-state+json": {
    "state": {},
    "version_major": 2,
    "version_minor": 0
   }
  }
 },
 "nbformat": 4,
 "nbformat_minor": 5
}
