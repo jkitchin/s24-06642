{
 "cells": [
  {
   "cell_type": "markdown",
   "metadata": {
    "id": "XSGq_MHgXq6u"
   },
   "source": [
    "# Building custom estimators in sklearn\n",
    "\n",
    "```{index} custom estimator\n",
    "```"
   ]
  },
  {
   "cell_type": "markdown",
   "metadata": {
    "id": "fLsjGXqGXq6y"
   },
   "source": [
    "It is possible to create your own estimators in sklearn. Doing this requires knowing some advanced Python programming skills. We have to create a *class* that inherits from the `sklearn.base.BaseEstimator` class to get Estimator capabilities, and `sklearn.base.RegressorMixin` to get Model capabilities like scoring. Then, we have to define `fit` and `predict` class methods. The `fit` method has a required signature which takes the data, and returns the estimator. This is the function where we fit the parameters and store the result in the class. The function we want to fit is nonlinear in the parameters:\n",
    "\n",
    "$k(T; k_0, E_A) = k_0 e^{-E_A / (RT)}$.\n",
    "\n",
    "So, we need to provide an initial guess to help find the fit. We derive an analytical guess for this from the data, and then use a nonlinear least squares routine to do the fitting.\n",
    "\n",
    "Second, we need a predict function, which simply evaluates our model for new temperatures.\n",
    "\n",
    "This class does not have any hyperparameters associated with it, so we do not need an <u><u>init</u></u> function here.\n",
    "\n",
    "We define some \"private\" functions, which *start* with an \\_, indicating these are not intended for users to use, they are only used internally. These functions hold the model and objective function.\n",
    "\n",
    "Here is the definition of the class.\n",
    "\n"
   ]
  },
  {
   "cell_type": "code",
   "execution_count": 1,
   "metadata": {
    "id": "WkqbnF99Xq6z"
   },
   "outputs": [],
   "source": [
    "from scipy.optimize import leastsq\n",
    "import numpy as np\n",
    "from sklearn.base import BaseEstimator, RegressorMixin\n",
    "\n",
    "\n",
    "class ArrheniusRegressor(BaseEstimator, RegressorMixin):\n",
    "    R = 8.314  # J / mol / K\n",
    "\n",
    "    def _arrhenius(self, params, X):\n",
    "        k0, Ea = params\n",
    "        return k0 * np.exp(-Ea / self.R / X)\n",
    "\n",
    "    def _objective(self, params, y, x):\n",
    "        err = y - self._arrhenius(params, x)\n",
    "        return err\n",
    "\n",
    "    def fit(self, X, y):\n",
    "        \"\"\"\n",
    "        X is the temperature (in K)\n",
    "        y is the rate constants (in mol/s)\n",
    "\n",
    "        Fits the Arrhenius equation to X, y.\n",
    "        \"\"\"\n",
    "\n",
    "        # We need a reasonable guess for the fitting. We estimate it from a 2-pt\n",
    "        # formula derived from the Arrhenius equation:\n",
    "\n",
    "        # k1 = k0 exp(-Ea/(R T1))\n",
    "        # k2 = k0 exp(-Ea/(R T2))\n",
    "        # Ea = (R T1 T2)/(T1 - T2) * ln(k1 / k2)\n",
    "        # k0 = exp(ln k1 + Ea / (R T1))\n",
    "        # We choose Tmin and Tmax for this.\n",
    "        iT1 = np.argmin(X)\n",
    "        iT2 = np.argmax(X)\n",
    "\n",
    "        T1 = X[iT1]\n",
    "        T2 = X[iT2]\n",
    "        k1 = y[iT1]\n",
    "        k2 = y[iT2]\n",
    "\n",
    "        # These are the initial guesses\n",
    "        Ea = self.R * T1 * T2 / (T1 - T2) * np.log(k1 / k2)\n",
    "        k0 = np.exp(np.log(k1) + Ea / self.R / T1)\n",
    "\n",
    "        self.coefs_, ier = leastsq(self._objective, (k0, Ea), args=(y, X))\n",
    "        if ier not in [1, 2, 3, 4]:\n",
    "            raise Exception(\"Fitting failed.\")\n",
    "\n",
    "        return self\n",
    "\n",
    "    def predict(self, X):\n",
    "        \"\"\"Returns predictions for X.\"\"\"\n",
    "        return self._arrhenius(self.coefs_, X)"
   ]
  },
  {
   "cell_type": "markdown",
   "metadata": {
    "id": "xWfRe8s_Xq61"
   },
   "source": [
    "Overall, it is not too complex, but requires you to know how to build a class that inherits from two other classes. That is an advanced topic.\n",
    "\n",
    "Once it is done though, we can use it as easily as all the other models.\n",
    "\n"
   ]
  },
  {
   "cell_type": "code",
   "execution_count": 2,
   "metadata": {
    "id": "4PaFTxKnXq61",
    "outputId": "edeae4c3-7caf-40cb-85ec-6b45f6f33198"
   },
   "outputs": [
    {
     "data": {
      "text/plain": [
       "array([6.79049544e+00, 4.02891385e+04])"
      ]
     },
     "execution_count": 2,
     "metadata": {},
     "output_type": "execute_result"
    }
   ],
   "source": [
    "data = np.array([[375, 1.68e-5], [400, 3.5e-5], [500, 4.2e-4], [600, 2.11e-3]])\n",
    "\n",
    "X = data[:, 0]\n",
    "y = data[:, 1]\n",
    "\n",
    "\n",
    "m = ArrheniusRegressor()\n",
    "m.fit(X, y)\n",
    "m.coefs_"
   ]
  },
  {
   "cell_type": "markdown",
   "metadata": {
    "id": "1ivQ7p1uXq62"
   },
   "source": [
    "Even though we did not define a `score` class method, our regressor *inherits* this method from one of the classes it is based on.\n",
    "\n"
   ]
  },
  {
   "cell_type": "code",
   "execution_count": 3,
   "metadata": {
    "id": "6_wXfhhiXq63",
    "outputId": "37cf7031-2f24-4c15-cc8a-f4080d24284e"
   },
   "outputs": [
    {
     "data": {
      "text/plain": [
       "0.9999982852927228"
      ]
     },
     "execution_count": 3,
     "metadata": {},
     "output_type": "execute_result"
    }
   ],
   "source": [
    "m.score(X, y)"
   ]
  },
  {
   "cell_type": "markdown",
   "metadata": {
    "id": "TTdOfQdjXq64"
   },
   "source": [
    "Finally, we can *predict* things with our new model.\n",
    "\n"
   ]
  },
  {
   "cell_type": "code",
   "execution_count": 4,
   "metadata": {
    "id": "de3N5bjRXq64",
    "outputId": "895bf122-38d7-44b8-8dbf-e48215c14008"
   },
   "outputs": [
    {
     "data": {
      "image/png": "[encoded data removed]",
      "text/plain": [
       "<Figure size 640x480 with 1 Axes>"
      ]
     },
     "metadata": {},
     "output_type": "display_data"
    }
   ],
   "source": [
    "import matplotlib.pyplot as plt\n",
    "\n",
    "plt.plot(X, y, \"bo\")\n",
    "\n",
    "xfit = np.linspace(350, 650)\n",
    "plt.plot(xfit, m.predict(xfit))\n",
    "plt.xlabel(\"T\")\n",
    "plt.ylabel(\"Rate constant\");"
   ]
  },
  {
   "cell_type": "markdown",
   "metadata": {
    "id": "nIh9Mr7LXq65"
   },
   "source": [
    "That is it. This is more work than a simple nonlinear regression with numpy arrays, but in theory this is compatible with the sklearn pipeline idea, and you get some functionality \"for free\" because of the inheritance.\n",
    "\n",
    "You do have to be clever in the fit function here; because it is a nonlinear regression, we have to initialize with a guess. You may get different fits for different guesses in some cases, which is not an easy thing to deal with. One solution is to use a random number generator with a seed to control reproducibility.\n",
    "\n"
   ]
  }
 ],
 "metadata": {
  "colab": {
   "name": "custom-estimators.ipynb",
   "provenance": []
  },
  "kernelspec": {
   "display_name": "Python 3 (ipykernel)",
   "language": "python",
   "name": "python3"
  },
  "language_info": {
   "codemirror_mode": {
    "name": "ipython",
    "version": 3
   },
   "file_extension": ".py",
   "mimetype": "text/x-python",
   "name": "python",
   "nbconvert_exporter": "python",
   "pygments_lexer": "ipython3",
   "version": "3.9.13"
  },
  "org": null
 },
 "nbformat": 4,
 "nbformat_minor": 0
}
