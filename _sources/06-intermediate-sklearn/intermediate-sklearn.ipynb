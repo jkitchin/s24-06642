{
 "cells": [
  {
   "cell_type": "markdown",
   "metadata": {},
   "source": [
    "# Intermediate scikit-learn\n",
    "\n"
   ]
  },
  {
   "cell_type": "markdown",
   "metadata": {},
   "source": [
    "Today we examine a few important ideas in data science and machine learning. They are:\n",
    "\n",
    "1.  Data preprocessing. We mostly focus on how to scale data so that each feature has about the same scale.\n",
    "2.  How to combine many data processing/fitting steps into a pipeline that is easy to work with\n",
    "3.  How to use k-fold validation to make sure your model fit doesn't depend too much on one data set sample.\n",
    "4.  Automating the optimization of model parameters using cross-validation.\n",
    "\n"
   ]
  },
  {
   "cell_type": "markdown",
   "metadata": {},
   "source": [
    "## Data preprocessing\n",
    "\n"
   ]
  },
  {
   "cell_type": "markdown",
   "metadata": {},
   "source": [
    "When your features have varying orders of magnitude, it is often a good idea to standardize them. That makes each feature have a similar importance. Some algorithms even expect that the input features have been standardized (e.g. PCA, and many kinds of regularization). The two most common approaches are:\n",
    "\n",
    "-   **zero-mean, unit variance:** You subtract the mean of each column, and normalize by the variance of the column\n",
    "-   **min-max:** you scale the column so that the minimum value maps to a constant (often 0 or -1), and the maximum value maps to a constant (often 1).\n",
    "\n",
    "`sklearn` provides a [preprocessing](https://scikit-learn.org/stable/modules/preprocessing.html) module to make this \"simple\".\n",
    "\n",
    "```{index} preprocessing\n",
    "```\n",
    "\n",
    "We will explore this with this data set which represents the energy of a Cu dimer as a function of the distance between the two atoms. Our goal is to develop a model that fits this. We know some physics about this system, and that is as the atoms approach each other, they should strongly repel each other, and the energy would go to infinity, and as the atoms get far apart, they cannot interact, so the energy should go to a constant. You might think the energy should go to zero,, but this depends on what reference system the energy zero is defined for. The zero in this system is defined as the minimum energy for *bulk* Cu in an fcc unit cell. So, this system levels out at an energy that is much higher than that.\n",
    "\n"
   ]
  },
  {
   "cell_type": "code",
   "execution_count": 1,
   "metadata": {},
   "outputs": [
    {
     "data": {
      "image/png": "[encoded data removed]",
      "text/plain": [
       "<Figure size 640x480 with 1 Axes>"
      ]
     },
     "metadata": {},
     "output_type": "display_data"
    }
   ],
   "source": [
    "import json\n",
    "\n",
    "with open(\"data.json\") as f:\n",
    "    data = json.load(f)\n",
    "\n",
    "import matplotlib.pyplot as plt\n",
    "\n",
    "plt.plot(data[\"distance\"], data[\"energy\"], \"bo\")\n",
    "plt.xlabel(\"distance\")\n",
    "plt.ylabel(\"energy\");"
   ]
  },
  {
   "cell_type": "markdown",
   "metadata": {},
   "source": [
    "First, let's make some columns. Instead of manually creating these, let's leverage the capability of `sklearn` to build the features for us. Here is an example of a second order polynomial.\n",
    "\n",
    "```{index} PolynomialFeatures\n",
    "```"
   ]
  },
  {
   "cell_type": "code",
   "execution_count": 2,
   "metadata": {},
   "outputs": [
    {
     "data": {
      "text/plain": [
       "array([[ 1.        ,  1.8       ,  3.24      ],\n",
       "       [ 1.        ,  1.80416667,  3.25501736],\n",
       "       [ 1.        ,  1.80833333,  3.27006944],\n",
       "       [ 1.        ,  1.8125    ,  3.28515625],\n",
       "       [ 1.        ,  1.81666667,  3.30027778],\n",
       "       [ 1.        ,  1.82083333,  3.31543403],\n",
       "       [ 1.        ,  1.825     ,  3.330625  ],\n",
       "       [ 1.        ,  1.82916667,  3.34585069],\n",
       "       [ 1.        ,  1.83333333,  3.36111111],\n",
       "       [ 1.        ,  1.8375    ,  3.37640625],\n",
       "       [ 1.        ,  1.84166667,  3.39173611],\n",
       "       [ 1.        ,  1.84583333,  3.40710069],\n",
       "       [ 1.        ,  1.85      ,  3.4225    ],\n",
       "       [ 1.        ,  1.85416667,  3.43793403],\n",
       "       [ 1.        ,  1.85833333,  3.45340278],\n",
       "       [ 1.        ,  1.8625    ,  3.46890625],\n",
       "       [ 1.        ,  1.86666667,  3.48444444],\n",
       "       [ 1.        ,  1.87083333,  3.50001736],\n",
       "       [ 1.        ,  1.875     ,  3.515625  ],\n",
       "       [ 1.        ,  1.87916667,  3.53126736],\n",
       "       [ 1.        ,  1.88333333,  3.54694444],\n",
       "       [ 1.        ,  1.8875    ,  3.56265625],\n",
       "       [ 1.        ,  1.89166667,  3.57840278],\n",
       "       [ 1.        ,  1.89583333,  3.59418403],\n",
       "       [ 1.        ,  1.9       ,  3.61      ],\n",
       "       [ 1.        ,  2.3       ,  5.29      ],\n",
       "       [ 1.        ,  2.32083333,  5.38626736],\n",
       "       [ 1.        ,  2.34166667,  5.48340278],\n",
       "       [ 1.        ,  2.3625    ,  5.58140625],\n",
       "       [ 1.        ,  2.38333333,  5.68027778],\n",
       "       [ 1.        ,  2.40416667,  5.78001736],\n",
       "       [ 1.        ,  2.425     ,  5.880625  ],\n",
       "       [ 1.        ,  2.44583333,  5.98210069],\n",
       "       [ 1.        ,  2.46666667,  6.08444444],\n",
       "       [ 1.        ,  2.4875    ,  6.18765625],\n",
       "       [ 1.        ,  2.50833333,  6.29173611],\n",
       "       [ 1.        ,  2.52916667,  6.39668403],\n",
       "       [ 1.        ,  2.55      ,  6.5025    ],\n",
       "       [ 1.        ,  2.57083333,  6.60918403],\n",
       "       [ 1.        ,  2.59166667,  6.71673611],\n",
       "       [ 1.        ,  2.6125    ,  6.82515625],\n",
       "       [ 1.        ,  2.63333333,  6.93444444],\n",
       "       [ 1.        ,  2.65416667,  7.04460069],\n",
       "       [ 1.        ,  2.675     ,  7.155625  ],\n",
       "       [ 1.        ,  2.69583333,  7.26751736],\n",
       "       [ 1.        ,  2.71666667,  7.38027778],\n",
       "       [ 1.        ,  2.7375    ,  7.49390625],\n",
       "       [ 1.        ,  2.75833333,  7.60840278],\n",
       "       [ 1.        ,  2.77916667,  7.72376736],\n",
       "       [ 1.        ,  2.8       ,  7.84      ],\n",
       "       [ 1.        ,  4.        , 16.        ],\n",
       "       [ 1.        ,  4.025     , 16.200625  ],\n",
       "       [ 1.        ,  4.05      , 16.4025    ],\n",
       "       [ 1.        ,  4.075     , 16.605625  ],\n",
       "       [ 1.        ,  4.1       , 16.81      ],\n",
       "       [ 1.        ,  4.125     , 17.015625  ],\n",
       "       [ 1.        ,  4.15      , 17.2225    ],\n",
       "       [ 1.        ,  4.175     , 17.430625  ],\n",
       "       [ 1.        ,  4.2       , 17.64      ],\n",
       "       [ 1.        ,  4.225     , 17.850625  ],\n",
       "       [ 1.        ,  4.25      , 18.0625    ],\n",
       "       [ 1.        ,  4.275     , 18.275625  ],\n",
       "       [ 1.        ,  4.3       , 18.49      ],\n",
       "       [ 1.        ,  4.325     , 18.705625  ],\n",
       "       [ 1.        ,  4.35      , 18.9225    ],\n",
       "       [ 1.        ,  4.375     , 19.140625  ],\n",
       "       [ 1.        ,  4.4       , 19.36      ],\n",
       "       [ 1.        ,  4.425     , 19.580625  ],\n",
       "       [ 1.        ,  4.45      , 19.8025    ],\n",
       "       [ 1.        ,  4.475     , 20.025625  ],\n",
       "       [ 1.        ,  4.5       , 20.25      ],\n",
       "       [ 1.        ,  4.525     , 20.475625  ],\n",
       "       [ 1.        ,  4.55      , 20.7025    ],\n",
       "       [ 1.        ,  4.575     , 20.930625  ],\n",
       "       [ 1.        ,  4.6       , 21.16      ]])"
      ]
     },
     "execution_count": 2,
     "metadata": {},
     "output_type": "execute_result"
    }
   ],
   "source": [
    "import numpy as np\n",
    "\n",
    "X = np.array([data[\"distance\"]]).T\n",
    "\n",
    "from sklearn.preprocessing import PolynomialFeatures\n",
    "\n",
    "poly = PolynomialFeatures(2)\n",
    "poly.fit_transform(X)"
   ]
  },
  {
   "cell_type": "markdown",
   "metadata": {},
   "source": [
    "You can see that there are some orders of magnitude variation across the columns. We can use standard methods in sklearn to scale these features. This is the *zero-mean and unit-variance* approach.\n",
    "\n",
    "```{index} preprocessing - scale\n",
    "```"
   ]
  },
  {
   "cell_type": "code",
   "execution_count": 3,
   "metadata": {},
   "outputs": [
    {
     "data": {
      "text/plain": [
       "array([[ 0.        , -1.05831672, -0.94881821],\n",
       "       [ 0.        , -1.05430795, -0.94653852],\n",
       "       [ 0.        , -1.05029917, -0.94425357],\n",
       "       [ 0.        , -1.0462904 , -0.94196335],\n",
       "       [ 0.        , -1.04228162, -0.93966786],\n",
       "       [ 0.        , -1.03827284, -0.93736709],\n",
       "       [ 0.        , -1.03426407, -0.93506105],\n",
       "       [ 0.        , -1.03025529, -0.93274975],\n",
       "       [ 0.        , -1.02624652, -0.93043317],\n",
       "       [ 0.        , -1.02223774, -0.92811132],\n",
       "       [ 0.        , -1.01822897, -0.9257842 ],\n",
       "       [ 0.        , -1.01422019, -0.92345181],\n",
       "       [ 0.        , -1.01021142, -0.92111415],\n",
       "       [ 0.        , -1.00620264, -0.91877122],\n",
       "       [ 0.        , -1.00219387, -0.91642301],\n",
       "       [ 0.        , -0.99818509, -0.91406954],\n",
       "       [ 0.        , -0.99417631, -0.91171079],\n",
       "       [ 0.        , -0.99016754, -0.90934678],\n",
       "       [ 0.        , -0.98615876, -0.90697749],\n",
       "       [ 0.        , -0.98214999, -0.90460293],\n",
       "       [ 0.        , -0.97814121, -0.9022231 ],\n",
       "       [ 0.        , -0.97413244, -0.899838  ],\n",
       "       [ 0.        , -0.97012366, -0.89744763],\n",
       "       [ 0.        , -0.96611489, -0.89505199],\n",
       "       [ 0.        , -0.96210611, -0.89265108],\n",
       "       [ 0.        , -0.57726367, -0.63762197],\n",
       "       [ 0.        , -0.55721979, -0.62300829],\n",
       "       [ 0.        , -0.53717591, -0.60826284],\n",
       "       [ 0.        , -0.51713203, -0.59338561],\n",
       "       [ 0.        , -0.49708816, -0.57837662],\n",
       "       [ 0.        , -0.47704428, -0.56323584],\n",
       "       [ 0.        , -0.4570004 , -0.5479633 ],\n",
       "       [ 0.        , -0.43695653, -0.53255898],\n",
       "       [ 0.        , -0.41691265, -0.51702289],\n",
       "       [ 0.        , -0.39686877, -0.50135502],\n",
       "       [ 0.        , -0.37682489, -0.48555538],\n",
       "       [ 0.        , -0.35678102, -0.46962397],\n",
       "       [ 0.        , -0.33673714, -0.45356078],\n",
       "       [ 0.        , -0.31669326, -0.43736582],\n",
       "       [ 0.        , -0.29664938, -0.42103909],\n",
       "       [ 0.        , -0.27660551, -0.40458058],\n",
       "       [ 0.        , -0.25656163, -0.3879903 ],\n",
       "       [ 0.        , -0.23651775, -0.37126825],\n",
       "       [ 0.        , -0.21647387, -0.35441442],\n",
       "       [ 0.        , -0.19643   , -0.33742882],\n",
       "       [ 0.        , -0.17638612, -0.32031145],\n",
       "       [ 0.        , -0.15634224, -0.3030623 ],\n",
       "       [ 0.        , -0.13629837, -0.28568138],\n",
       "       [ 0.        , -0.11625449, -0.26816868],\n",
       "       [ 0.        , -0.09621061, -0.25052421],\n",
       "       [ 0.        ,  1.05831672,  0.98818861],\n",
       "       [ 0.        ,  1.08236937,  1.01864409],\n",
       "       [ 0.        ,  1.10642203,  1.04928933],\n",
       "       [ 0.        ,  1.13047468,  1.08012432],\n",
       "       [ 0.        ,  1.15452733,  1.11114907],\n",
       "       [ 0.        ,  1.17857999,  1.14236357],\n",
       "       [ 0.        ,  1.20263264,  1.17376782],\n",
       "       [ 0.        ,  1.22668529,  1.20536183],\n",
       "       [ 0.        ,  1.25073794,  1.23714559],\n",
       "       [ 0.        ,  1.2747906 ,  1.26911911],\n",
       "       [ 0.        ,  1.29884325,  1.30128238],\n",
       "       [ 0.        ,  1.3228959 ,  1.3336354 ],\n",
       "       [ 0.        ,  1.34694855,  1.36617818],\n",
       "       [ 0.        ,  1.37100121,  1.39891071],\n",
       "       [ 0.        ,  1.39505386,  1.43183299],\n",
       "       [ 0.        ,  1.41910651,  1.46494503],\n",
       "       [ 0.        ,  1.44315917,  1.49824682],\n",
       "       [ 0.        ,  1.46721182,  1.53173837],\n",
       "       [ 0.        ,  1.49126447,  1.56541967],\n",
       "       [ 0.        ,  1.51531712,  1.59929072],\n",
       "       [ 0.        ,  1.53936978,  1.63335153],\n",
       "       [ 0.        ,  1.56342243,  1.66760209],\n",
       "       [ 0.        ,  1.58747508,  1.70204241],\n",
       "       [ 0.        ,  1.61152774,  1.73667248],\n",
       "       [ 0.        ,  1.63558039,  1.7714923 ]])"
      ]
     },
     "execution_count": 3,
     "metadata": {},
     "output_type": "execute_result"
    }
   ],
   "source": [
    "from sklearn import preprocessing\n",
    "\n",
    "X_scaled = preprocessing.scale(poly.fit_transform(X))\n",
    "X_scaled"
   ]
  },
  {
   "cell_type": "markdown",
   "metadata": {},
   "source": [
    "We can check that we get what we asked for:\n",
    "\n"
   ]
  },
  {
   "cell_type": "code",
   "execution_count": 4,
   "metadata": {},
   "outputs": [
    {
     "data": {
      "text/plain": [
       "(-6.315935428978668e-17, array([0., 1., 1.]))"
      ]
     },
     "execution_count": 4,
     "metadata": {},
     "output_type": "execute_result"
    }
   ],
   "source": [
    "X_scaled.mean(), X_scaled.std(axis=0)"
   ]
  },
  {
   "cell_type": "markdown",
   "metadata": {},
   "source": [
    "We can also transform to min-max this way, the default here is to scale between 0 and 1.\n",
    "\n"
   ]
  },
  {
   "cell_type": "code",
   "execution_count": 5,
   "metadata": {},
   "outputs": [
    {
     "data": {
      "text/plain": [
       "array([[0.00000000e+00, 0.00000000e+00, 0.00000000e+00],\n",
       "       [0.00000000e+00, 1.48809524e-03, 8.38022383e-04],\n",
       "       [0.00000000e+00, 2.97619048e-03, 1.67798239e-03],\n",
       "       [0.00000000e+00, 4.46428571e-03, 2.51988002e-03],\n",
       "       [0.00000000e+00, 5.95238095e-03, 3.36371528e-03],\n",
       "       [0.00000000e+00, 7.44047619e-03, 4.20948816e-03],\n",
       "       [0.00000000e+00, 8.92857143e-03, 5.05719866e-03],\n",
       "       [0.00000000e+00, 1.04166667e-02, 5.90684679e-03],\n",
       "       [0.00000000e+00, 1.19047619e-02, 6.75843254e-03],\n",
       "       [0.00000000e+00, 1.33928571e-02, 7.61195592e-03],\n",
       "       [0.00000000e+00, 1.48809524e-02, 8.46741691e-03],\n",
       "       [0.00000000e+00, 1.63690476e-02, 9.32481554e-03],\n",
       "       [0.00000000e+00, 1.78571429e-02, 1.01841518e-02],\n",
       "       [0.00000000e+00, 1.93452381e-02, 1.10454257e-02],\n",
       "       [0.00000000e+00, 2.08333333e-02, 1.19086372e-02],\n",
       "       [0.00000000e+00, 2.23214286e-02, 1.27737863e-02],\n",
       "       [0.00000000e+00, 2.38095238e-02, 1.36408730e-02],\n",
       "       [0.00000000e+00, 2.52976190e-02, 1.45098974e-02],\n",
       "       [0.00000000e+00, 2.67857143e-02, 1.53808594e-02],\n",
       "       [0.00000000e+00, 2.82738095e-02, 1.62537590e-02],\n",
       "       [0.00000000e+00, 2.97619048e-02, 1.71285962e-02],\n",
       "       [0.00000000e+00, 3.12500000e-02, 1.80053711e-02],\n",
       "       [0.00000000e+00, 3.27380952e-02, 1.88840836e-02],\n",
       "       [0.00000000e+00, 3.42261905e-02, 1.97647337e-02],\n",
       "       [0.00000000e+00, 3.57142857e-02, 2.06473214e-02],\n",
       "       [0.00000000e+00, 1.78571429e-01, 1.14397321e-01],\n",
       "       [0.00000000e+00, 1.86011905e-01, 1.19769384e-01],\n",
       "       [0.00000000e+00, 1.93452381e-01, 1.25189887e-01],\n",
       "       [0.00000000e+00, 2.00892857e-01, 1.30658831e-01],\n",
       "       [0.00000000e+00, 2.08333333e-01, 1.36176215e-01],\n",
       "       [0.00000000e+00, 2.15773810e-01, 1.41742040e-01],\n",
       "       [0.00000000e+00, 2.23214286e-01, 1.47356306e-01],\n",
       "       [0.00000000e+00, 2.30654762e-01, 1.53019012e-01],\n",
       "       [0.00000000e+00, 2.38095238e-01, 1.58730159e-01],\n",
       "       [0.00000000e+00, 2.45535714e-01, 1.64489746e-01],\n",
       "       [0.00000000e+00, 2.52976190e-01, 1.70297774e-01],\n",
       "       [0.00000000e+00, 2.60416667e-01, 1.76154243e-01],\n",
       "       [0.00000000e+00, 2.67857143e-01, 1.82059152e-01],\n",
       "       [0.00000000e+00, 2.75297619e-01, 1.88012502e-01],\n",
       "       [0.00000000e+00, 2.82738095e-01, 1.94014292e-01],\n",
       "       [0.00000000e+00, 2.90178571e-01, 2.00064523e-01],\n",
       "       [0.00000000e+00, 2.97619048e-01, 2.06163194e-01],\n",
       "       [0.00000000e+00, 3.05059524e-01, 2.12310307e-01],\n",
       "       [0.00000000e+00, 3.12500000e-01, 2.18505859e-01],\n",
       "       [0.00000000e+00, 3.19940476e-01, 2.24749853e-01],\n",
       "       [0.00000000e+00, 3.27380952e-01, 2.31042287e-01],\n",
       "       [0.00000000e+00, 3.34821429e-01, 2.37383161e-01],\n",
       "       [0.00000000e+00, 3.42261905e-01, 2.43772476e-01],\n",
       "       [0.00000000e+00, 3.49702381e-01, 2.50210232e-01],\n",
       "       [0.00000000e+00, 3.57142857e-01, 2.56696429e-01],\n",
       "       [0.00000000e+00, 7.85714286e-01, 7.12053571e-01],\n",
       "       [0.00000000e+00, 7.94642857e-01, 7.23249163e-01],\n",
       "       [0.00000000e+00, 8.03571429e-01, 7.34514509e-01],\n",
       "       [0.00000000e+00, 8.12500000e-01, 7.45849609e-01],\n",
       "       [0.00000000e+00, 8.21428571e-01, 7.57254464e-01],\n",
       "       [0.00000000e+00, 8.30357143e-01, 7.68729074e-01],\n",
       "       [0.00000000e+00, 8.39285714e-01, 7.80273438e-01],\n",
       "       [0.00000000e+00, 8.48214286e-01, 7.91887556e-01],\n",
       "       [0.00000000e+00, 8.57142857e-01, 8.03571429e-01],\n",
       "       [0.00000000e+00, 8.66071429e-01, 8.15325056e-01],\n",
       "       [0.00000000e+00, 8.75000000e-01, 8.27148438e-01],\n",
       "       [0.00000000e+00, 8.83928571e-01, 8.39041574e-01],\n",
       "       [0.00000000e+00, 8.92857143e-01, 8.51004464e-01],\n",
       "       [0.00000000e+00, 9.01785714e-01, 8.63037109e-01],\n",
       "       [0.00000000e+00, 9.10714286e-01, 8.75139509e-01],\n",
       "       [0.00000000e+00, 9.19642857e-01, 8.87311663e-01],\n",
       "       [0.00000000e+00, 9.28571429e-01, 8.99553571e-01],\n",
       "       [0.00000000e+00, 9.37500000e-01, 9.11865234e-01],\n",
       "       [0.00000000e+00, 9.46428571e-01, 9.24246652e-01],\n",
       "       [0.00000000e+00, 9.55357143e-01, 9.36697824e-01],\n",
       "       [0.00000000e+00, 9.64285714e-01, 9.49218750e-01],\n",
       "       [0.00000000e+00, 9.73214286e-01, 9.61809431e-01],\n",
       "       [0.00000000e+00, 9.82142857e-01, 9.74469866e-01],\n",
       "       [0.00000000e+00, 9.91071429e-01, 9.87200056e-01],\n",
       "       [0.00000000e+00, 1.00000000e+00, 1.00000000e+00]])"
      ]
     },
     "execution_count": 5,
     "metadata": {},
     "output_type": "execute_result"
    }
   ],
   "source": [
    "minmax = preprocessing.MinMaxScaler()\n",
    "minmax.fit_transform(poly.fit_transform(X))"
   ]
  },
  {
   "cell_type": "markdown",
   "metadata": {},
   "source": [
    "There are other ways to do the scaling, and sometimes you have to be careful that you don't do bad things. For example if you have very sparse data, it may not make sense to center it.\n",
    "\n"
   ]
  },
  {
   "cell_type": "markdown",
   "metadata": {},
   "source": [
    "### Pipeline\n",
    "\n"
   ]
  },
  {
   "cell_type": "markdown",
   "metadata": {},
   "source": [
    "These steps can be combined in what is called a `pipeline`. The idea is that data goes into the pipe and is transformed in a series of steps, and the results come out the end of the pipe. The code above can be condensed into this concept like this. Here we also perform a linear regression.\n",
    "\n",
    "```{index} pipeline\n",
    "```"
   ]
  },
  {
   "cell_type": "code",
   "execution_count": 6,
   "metadata": {},
   "outputs": [
    {
     "data": {
      "text/html": [
       "<style>#sk-container-id-1 {color: black;background-color: white;}#sk-container-id-1 pre{padding: 0;}#sk-container-id-1 div.sk-toggleable {background-color: white;}#sk-container-id-1 label.sk-toggleable__label {cursor: pointer;display: block;width: 100%;margin-bottom: 0;padding: 0.3em;box-sizing: border-box;text-align: center;}#sk-container-id-1 label.sk-toggleable__label-arrow:before {content: \"▸\";float: left;margin-right: 0.25em;color: #696969;}#sk-container-id-1 label.sk-toggleable__label-arrow:hover:before {color: black;}#sk-container-id-1 div.sk-estimator:hover label.sk-toggleable__label-arrow:before {color: black;}#sk-container-id-1 div.sk-toggleable__content {max-height: 0;max-width: 0;overflow: hidden;text-align: left;background-color: #f0f8ff;}#sk-container-id-1 div.sk-toggleable__content pre {margin: 0.2em;color: black;border-radius: 0.25em;background-color: #f0f8ff;}#sk-container-id-1 input.sk-toggleable__control:checked~div.sk-toggleable__content {max-height: 200px;max-width: 100%;overflow: auto;}#sk-container-id-1 input.sk-toggleable__control:checked~label.sk-toggleable__label-arrow:before {content: \"▾\";}#sk-container-id-1 div.sk-estimator input.sk-toggleable__control:checked~label.sk-toggleable__label {background-color: #d4ebff;}#sk-container-id-1 div.sk-label input.sk-toggleable__control:checked~label.sk-toggleable__label {background-color: #d4ebff;}#sk-container-id-1 input.sk-hidden--visually {border: 0;clip: rect(1px 1px 1px 1px);clip: rect(1px, 1px, 1px, 1px);height: 1px;margin: -1px;overflow: hidden;padding: 0;position: absolute;width: 1px;}#sk-container-id-1 div.sk-estimator {font-family: monospace;background-color: #f0f8ff;border: 1px dotted black;border-radius: 0.25em;box-sizing: border-box;margin-bottom: 0.5em;}#sk-container-id-1 div.sk-estimator:hover {background-color: #d4ebff;}#sk-container-id-1 div.sk-parallel-item::after {content: \"\";width: 100%;border-bottom: 1px solid gray;flex-grow: 1;}#sk-container-id-1 div.sk-label:hover label.sk-toggleable__label {background-color: #d4ebff;}#sk-container-id-1 div.sk-serial::before {content: \"\";position: absolute;border-left: 1px solid gray;box-sizing: border-box;top: 0;bottom: 0;left: 50%;z-index: 0;}#sk-container-id-1 div.sk-serial {display: flex;flex-direction: column;align-items: center;background-color: white;padding-right: 0.2em;padding-left: 0.2em;position: relative;}#sk-container-id-1 div.sk-item {position: relative;z-index: 1;}#sk-container-id-1 div.sk-parallel {display: flex;align-items: stretch;justify-content: center;background-color: white;position: relative;}#sk-container-id-1 div.sk-item::before, #sk-container-id-1 div.sk-parallel-item::before {content: \"\";position: absolute;border-left: 1px solid gray;box-sizing: border-box;top: 0;bottom: 0;left: 50%;z-index: -1;}#sk-container-id-1 div.sk-parallel-item {display: flex;flex-direction: column;z-index: 1;position: relative;background-color: white;}#sk-container-id-1 div.sk-parallel-item:first-child::after {align-self: flex-end;width: 50%;}#sk-container-id-1 div.sk-parallel-item:last-child::after {align-self: flex-start;width: 50%;}#sk-container-id-1 div.sk-parallel-item:only-child::after {width: 0;}#sk-container-id-1 div.sk-dashed-wrapped {border: 1px dashed gray;margin: 0 0.4em 0.5em 0.4em;box-sizing: border-box;padding-bottom: 0.4em;background-color: white;}#sk-container-id-1 div.sk-label label {font-family: monospace;font-weight: bold;display: inline-block;line-height: 1.2em;}#sk-container-id-1 div.sk-label-container {text-align: center;}#sk-container-id-1 div.sk-container {/* jupyter's `normalize.less` sets `[hidden] { display: none; }` but bootstrap.min.css set `[hidden] { display: none !important; }` so we also need the `!important` here to be able to override the default hidden behavior on the sphinx rendered scikit-learn.org. See: https://github.com/scikit-learn/scikit-learn/issues/21755 */display: inline-block !important;position: relative;}#sk-container-id-1 div.sk-text-repr-fallback {display: none;}</style><div id=\"sk-container-id-1\" class=\"sk-top-container\"><div class=\"sk-text-repr-fallback\"><pre>Pipeline(steps=[(&#x27;poly&#x27;, PolynomialFeatures(degree=4)),\n",
       "                (&#x27;scale&#x27;, StandardScaler()),\n",
       "                (&#x27;linregress&#x27;, LinearRegression())])</pre><b>In a Jupyter environment, please rerun this cell to show the HTML representation or trust the notebook. <br />On GitHub, the HTML representation is unable to render, please try loading this page with nbviewer.org.</b></div><div class=\"sk-container\" hidden><div class=\"sk-item sk-dashed-wrapped\"><div class=\"sk-label-container\"><div class=\"sk-label sk-toggleable\"><input class=\"sk-toggleable__control sk-hidden--visually\" id=\"sk-estimator-id-1\" type=\"checkbox\" ><label for=\"sk-estimator-id-1\" class=\"sk-toggleable__label sk-toggleable__label-arrow\">Pipeline</label><div class=\"sk-toggleable__content\"><pre>Pipeline(steps=[(&#x27;poly&#x27;, PolynomialFeatures(degree=4)),\n",
       "                (&#x27;scale&#x27;, StandardScaler()),\n",
       "                (&#x27;linregress&#x27;, LinearRegression())])</pre></div></div></div><div class=\"sk-serial\"><div class=\"sk-item\"><div class=\"sk-estimator sk-toggleable\"><input class=\"sk-toggleable__control sk-hidden--visually\" id=\"sk-estimator-id-2\" type=\"checkbox\" ><label for=\"sk-estimator-id-2\" class=\"sk-toggleable__label sk-toggleable__label-arrow\">PolynomialFeatures</label><div class=\"sk-toggleable__content\"><pre>PolynomialFeatures(degree=4)</pre></div></div></div><div class=\"sk-item\"><div class=\"sk-estimator sk-toggleable\"><input class=\"sk-toggleable__control sk-hidden--visually\" id=\"sk-estimator-id-3\" type=\"checkbox\" ><label for=\"sk-estimator-id-3\" class=\"sk-toggleable__label sk-toggleable__label-arrow\">StandardScaler</label><div class=\"sk-toggleable__content\"><pre>StandardScaler()</pre></div></div></div><div class=\"sk-item\"><div class=\"sk-estimator sk-toggleable\"><input class=\"sk-toggleable__control sk-hidden--visually\" id=\"sk-estimator-id-4\" type=\"checkbox\" ><label for=\"sk-estimator-id-4\" class=\"sk-toggleable__label sk-toggleable__label-arrow\">LinearRegression</label><div class=\"sk-toggleable__content\"><pre>LinearRegression()</pre></div></div></div></div></div></div></div>"
      ],
      "text/plain": [
       "Pipeline(steps=[('poly', PolynomialFeatures(degree=4)),\n",
       "                ('scale', StandardScaler()),\n",
       "                ('linregress', LinearRegression())])"
      ]
     },
     "execution_count": 6,
     "metadata": {},
     "output_type": "execute_result"
    }
   ],
   "source": [
    "from sklearn.pipeline import Pipeline\n",
    "from sklearn.preprocessing import PolynomialFeatures\n",
    "from sklearn import linear_model\n",
    "\n",
    "poly = PolynomialFeatures(4)\n",
    "scaler = preprocessing.StandardScaler()\n",
    "model = linear_model.LinearRegression()\n",
    "\n",
    "X = np.array([data[\"distance\"]]).T\n",
    "y = np.array([data[\"energy\"]]).T\n",
    "\n",
    "pipe = Pipeline([(\"poly\", poly), (\"scale\", scaler), (\"linregress\", model)])\n",
    "\n",
    "pipe.fit(X, y)"
   ]
  },
  {
   "cell_type": "markdown",
   "metadata": {},
   "source": [
    "Here, we can use visualization to see how well the fit works with this data.\n",
    "\n"
   ]
  },
  {
   "cell_type": "code",
   "execution_count": 7,
   "metadata": {},
   "outputs": [
    {
     "data": {
      "image/png": "[encoded data removed]",
      "text/plain": [
       "<Figure size 640x480 with 1 Axes>"
      ]
     },
     "metadata": {},
     "output_type": "display_data"
    }
   ],
   "source": [
    "dfit = np.linspace(1.5, 5)\n",
    "\n",
    "plt.plot(data[\"distance\"], data[\"energy\"], \"bo\", dfit, pipe.predict(dfit[:, None]));"
   ]
  },
  {
   "cell_type": "markdown",
   "metadata": {},
   "source": [
    "The model sort of gets the right idea, but you can see there are issues with it. The local maximum near 3.7 is not real, and the increase in energy past d=4.5 is also not physically correct. We can work with different polynomial orders to see if that is fixable. The polynomial order is considered a *hyperparameter* here.\n",
    "\n"
   ]
  },
  {
   "cell_type": "markdown",
   "metadata": {},
   "source": [
    "## k-fold validation / cross-validation\n",
    "\n",
    "```{index} k-fold\n",
    "```"
   ]
  },
  {
   "cell_type": "markdown",
   "metadata": {},
   "source": [
    "[https://scikit-learn.org/stable/modules/cross_validation.html](https://scikit-learn.org/stable/modules/cross_validation.html)\n",
    "\n",
    "We have 75 data points, and the best thing to do in training would be to split the data into train and test sets. Last time we saw a way to that in `sklearn`. The problem with doing it once is that the results may depend on the specific set of data, and it would be nice to see several trials to make sure it doesn't. You can code this yourself, but here is a better, more formalized way to do it. The idea is called `K-fold` validation, where you split the data into `k` folds that are splits into training and testing data. Then, we fit on k-1 of the folds, and test on the one left out. We do that for all the combinations of folds.\n",
    "\n"
   ]
  },
  {
   "cell_type": "code",
   "execution_count": 8,
   "metadata": {},
   "outputs": [
    {
     "name": "stdout",
     "output_type": "stream",
     "text": [
      "0.998717821731468 -0.19477887732063093\n",
      "0.9978222474489709 0.8304794573174061\n",
      "0.9960805625125984 0.8746369801023071\n",
      "0.9977170214426699 0.9454540341764682\n",
      "0.9968333195835346 -354.96692697913664\n"
     ]
    },
    {
     "data": {
      "image/png": "[encoded data removed]",
      "text/plain": [
       "<Figure size 640x480 with 1 Axes>"
      ]
     },
     "metadata": {},
     "output_type": "display_data"
    }
   ],
   "source": [
    "from sklearn.model_selection import KFold\n",
    "\n",
    "kf = KFold(n_splits=5)\n",
    "\n",
    "Xfit = np.linspace(1.8, 4.8)[:, None]\n",
    "plt.plot(X, y, \"bo\")\n",
    "\n",
    "for train, test in kf.split(X):\n",
    "    pipe.fit(X[train], y[train])\n",
    "    plt.plot(Xfit, pipe.predict(Xfit))\n",
    "    plt.plot(X[test], pipe.predict(X[test]), \"ro\")\n",
    "    print(pipe.score(X[train], y[train]), pipe.score(X[test], y[test]))"
   ]
  },
  {
   "cell_type": "markdown",
   "metadata": {},
   "source": [
    "You can see here that the results depend on the specific data set that is chosen. In every case, the score of the train data is ok, but for some models the test data is not as good. This is commonly observed, and it indicates over-fitting in the train data, and poor generalization in the test data.\n",
    "\n",
    "A common metric for judging the fit is called the cross-validation score. This is obtained by averaging the score across all the folds. We would like this score to be a minimum for our model.\n",
    "\n",
    "```{index} cross-validation\n",
    "```"
   ]
  },
  {
   "cell_type": "code",
   "execution_count": 9,
   "metadata": {},
   "outputs": [
    {
     "name": "stdout",
     "output_type": "stream",
     "text": [
      "[-1.94778877e-01  8.30479457e-01  8.74636980e-01  9.45454034e-01\n",
      " -3.54966927e+02]\n",
      "Accuracy: -70.50 (+/- 284.47)\n"
     ]
    }
   ],
   "source": [
    "from sklearn.model_selection import cross_val_score\n",
    "\n",
    "scores = cross_val_score(pipe, X, y, cv=5)\n",
    "print(scores)\n",
    "print(f\"Accuracy: {scores.mean():0.2f} (+/- {scores.std() * 2:0.2f})\")"
   ]
  },
  {
   "cell_type": "markdown",
   "metadata": {},
   "source": [
    "## Hyperparameter optimization\n",
    "\n"
   ]
  },
  {
   "cell_type": "markdown",
   "metadata": {},
   "source": [
    "The next goal we have is to figure out what the best polynomial to use might be. We will leverage `sklearn` again to do this search for us. First, we get a list of parameters that we can change in our `pipe`.\n",
    "\n"
   ]
  },
  {
   "cell_type": "code",
   "execution_count": 10,
   "metadata": {},
   "outputs": [
    {
     "data": {
      "text/plain": [
       "dict_keys(['memory', 'steps', 'verbose', 'poly', 'scale', 'linregress', 'poly__degree', 'poly__include_bias', 'poly__interaction_only', 'poly__order', 'scale__copy', 'scale__with_mean', 'scale__with_std', 'linregress__copy_X', 'linregress__fit_intercept', 'linregress__n_jobs', 'linregress__normalize', 'linregress__positive'])"
      ]
     },
     "execution_count": 10,
     "metadata": {},
     "output_type": "execute_result"
    }
   ],
   "source": [
    "pipe.get_params().keys()"
   ]
  },
  {
   "cell_type": "markdown",
   "metadata": {},
   "source": [
    "We want to vary the `poly_degree` parameter to find the one with the best CV score. We make a list of integer values this argument can take.\n",
    "\n"
   ]
  },
  {
   "cell_type": "code",
   "execution_count": 11,
   "metadata": {},
   "outputs": [
    {
     "name": "stdout",
     "output_type": "stream",
     "text": [
      "{'poly__degree': 11}\n"
     ]
    }
   ],
   "source": [
    "pdegree = np.arange(4, 15)\n",
    "param_grid = [{\"poly__degree\": pdegree}]\n",
    "\n",
    "from sklearn.model_selection import GridSearchCV\n",
    "\n",
    "clf = GridSearchCV(pipe, param_grid)\n",
    "clf.fit(X[train], y[train])\n",
    "\n",
    "print(clf.best_params_)"
   ]
  },
  {
   "cell_type": "markdown",
   "metadata": {},
   "source": [
    "That tells us an 11th order polynomial is best here. We get a lot of data from this.\n",
    "\n"
   ]
  },
  {
   "cell_type": "code",
   "execution_count": 12,
   "metadata": {},
   "outputs": [
    {
     "data": {
      "text/plain": [
       "{'mean_fit_time': array([0.00616555, 0.0057899 , 0.00552492, 0.00553412, 0.00556197,\n",
       "        0.00563121, 0.00576525, 0.00604467, 0.00583591, 0.00625091,\n",
       "        0.00589566]),\n",
       " 'std_fit_time': array([0.00074243, 0.00033344, 0.00010137, 0.00014263, 0.00012472,\n",
       "        0.00021662, 0.00029389, 0.00023983, 0.00016329, 0.0003361 ,\n",
       "        0.0001307 ]),\n",
       " 'mean_score_time': array([0.00205412, 0.00201645, 0.00210567, 0.00216141, 0.00208588,\n",
       "        0.00205078, 0.00212159, 0.00212736, 0.00208583, 0.00217457,\n",
       "        0.00215263]),\n",
       " 'std_score_time': array([2.12623534e-04, 9.83030305e-05, 8.62171691e-05, 1.19249394e-04,\n",
       "        1.05984221e-04, 1.46631466e-04, 9.93096925e-05, 7.29563034e-05,\n",
       "        1.05222371e-04, 1.03021923e-04, 9.31976243e-05]),\n",
       " 'param_poly__degree': masked_array(data=[4, 5, 6, 7, 8, 9, 10, 11, 12, 13, 14],\n",
       "              mask=[False, False, False, False, False, False, False, False,\n",
       "                    False, False, False],\n",
       "        fill_value='?',\n",
       "             dtype=object),\n",
       " 'params': [{'poly__degree': 4},\n",
       "  {'poly__degree': 5},\n",
       "  {'poly__degree': 6},\n",
       "  {'poly__degree': 7},\n",
       "  {'poly__degree': 8},\n",
       "  {'poly__degree': 9},\n",
       "  {'poly__degree': 10},\n",
       "  {'poly__degree': 11},\n",
       "  {'poly__degree': 12},\n",
       "  {'poly__degree': 13},\n",
       "  {'poly__degree': 14}],\n",
       " 'split0_test_score': array([-0.10465458,  0.91296266,  0.99200176,  0.99994327,  0.99999621,\n",
       "         0.99999971,  0.99999999,  1.        ,  1.        ,  1.        ,\n",
       "         1.        ]),\n",
       " 'split1_test_score': array([0.07879496, 0.9710895 , 0.99886022, 0.99999785, 0.9999998 ,\n",
       "        0.99999999, 1.        , 1.        , 1.        , 1.        ,\n",
       "        1.        ]),\n",
       " 'split2_test_score': array([0.63751492, 0.96502098, 0.99514639, 0.99999484, 0.99999782,\n",
       "        0.99999976, 1.        , 1.        , 1.        , 1.        ,\n",
       "        1.        ]),\n",
       " 'split3_test_score': array([0.94674591, 0.9908384 , 0.99920836, 0.99998626, 0.99999984,\n",
       "        0.99999994, 1.        , 1.        , 1.        , 1.        ,\n",
       "        1.        ]),\n",
       " 'split4_test_score': array([-2.64962933e+03, -1.62101064e+03, -1.26483453e+03, -4.22085134e+02,\n",
       "        -1.08058482e+02, -3.69041787e+01, -5.39397049e+00, -4.88892726e-02,\n",
       "        -1.78976613e+01, -3.93984156e+00, -6.89778575e+01]),\n",
       " 'mean_test_score': array([-5.29614185e+02, -3.23434146e+02, -2.52169863e+02, -8.36170423e+01,\n",
       "        -2.08116977e+01, -6.58083586e+00, -2.78794100e-01,  7.90222145e-01,\n",
       "        -2.77953226e+00,  1.20316889e-02, -1.29955715e+01]),\n",
       " 'std_test_score': array([1.06000764e+03, 6.48788248e+02, 5.06332334e+02, 1.69234046e+02,\n",
       "        4.36233923e+01, 1.51616714e+01, 2.55758820e+00, 4.19555709e-01,\n",
       "        7.55906453e+00, 1.97593662e+00, 2.79911430e+01]),\n",
       " 'rank_test_score': array([11, 10,  9,  8,  7,  5,  3,  1,  4,  2,  6], dtype=int32)}"
      ]
     },
     "execution_count": 12,
     "metadata": {},
     "output_type": "execute_result"
    }
   ],
   "source": [
    "clf.cv_results_"
   ]
  },
  {
   "cell_type": "markdown",
   "metadata": {},
   "source": [
    "The order 11 is the one that minimizes the average test score *and* std, and is the best compromise on these.\n",
    "\n"
   ]
  },
  {
   "cell_type": "code",
   "execution_count": 14,
   "metadata": {},
   "outputs": [
    {
     "data": {
      "image/png": "[encoded data removed]",
      "text/plain": [
       "<Figure size 640x480 with 1 Axes>"
      ]
     },
     "metadata": {},
     "output_type": "display_data"
    }
   ],
   "source": [
    "plt.plot(\n",
    "    pdegree,\n",
    "    clf.cv_results_[\"mean_test_score\"],\n",
    "    pdegree,\n",
    "    clf.cv_results_[\"std_test_score\"],\n",
    ")\n",
    "plt.ylim([-100, 100])\n",
    "plt.legend([\"mean\", \"std\"])\n",
    "plt.xlabel(\"Polynomial order\")\n",
    "plt.ylabel(\"CV score\");"
   ]
  },
  {
   "cell_type": "markdown",
   "metadata": {},
   "source": [
    "We can also see here that this is a good compromise. Note, however, we still cannot reliably extrapolate with this model because it is still just a polynomial model, and it does not contain any physics.\n",
    "\n"
   ]
  },
  {
   "cell_type": "code",
   "execution_count": 15,
   "metadata": {},
   "outputs": [
    {
     "data": {
      "image/png": "[encoded data removed]",
      "text/plain": [
       "<Figure size 640x480 with 1 Axes>"
      ]
     },
     "metadata": {},
     "output_type": "display_data"
    }
   ],
   "source": [
    "Xfit = np.linspace(1.5, 5.5)[:, None]\n",
    "plt.plot(X, y, \"bo\")\n",
    "plt.plot(Xfit, clf.predict(Xfit), \"r-\")\n",
    "plt.xlabel(\"Distance\")\n",
    "plt.ylabel(\"energy\")\n",
    "plt.legend([\"data\", \"fit\"]);"
   ]
  },
  {
   "cell_type": "markdown",
   "metadata": {},
   "source": [
    "**Exercises** Read more about these sklearn functions. How would you plot the fit for each polynomial degree?\n",
    "\n"
   ]
  },
  {
   "cell_type": "markdown",
   "metadata": {},
   "source": [
    "## Summary\n",
    "\n"
   ]
  },
  {
   "cell_type": "markdown",
   "metadata": {},
   "source": [
    "We illustrated how to leverage `sklearn` to do a single hyperparameter optimization here, the polynomial order. Typical machine learning methods have many hyperparameters. We could add new ones here if you include regularization, e.g Lasso, or Ridge would add one more hyperparameter, and Elastic net would add two. Neural networks have hyperparameters that include how many hidden layers, how many neurons per layer, and which activation functions to use. As the number of parameters grow, it is increasingly important to have automated methods for exploring and optimizing them, as well as principled methods for deciding which models are better.\n",
    "\n"
   ]
  }
 ],
 "metadata": {
  "kernelspec": {
   "display_name": "Python 3 (ipykernel)",
   "language": "python",
   "name": "python3"
  },
  "language_info": {
   "codemirror_mode": {
    "name": "ipython",
    "version": 3
   },
   "file_extension": ".py",
   "mimetype": "text/x-python",
   "name": "python",
   "nbconvert_exporter": "python",
   "pygments_lexer": "ipython3",
   "version": "3.9.13"
  },
  "org": null
 },
 "nbformat": 4,
 "nbformat_minor": 0
}
