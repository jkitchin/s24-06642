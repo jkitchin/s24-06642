{
 "cells": [
  {
   "cell_type": "markdown",
   "id": "b6d41fdc",
   "metadata": {},
   "source": [
    "Before you turn this problem in, make sure everything runs as expected. First, **restart the kernel** (in the menubar, select Kernel$\\rightarrow$Restart) and then **run all cells** (in the menubar, select Cell$\\rightarrow$Run All).\n",
    "\n",
    "Make sure you fill in any place that says `YOUR CODE HERE` or \"YOUR ANSWER HERE\", as well as your name and collaborators below:\n",
    "\n"
   ]
  },
  {
   "cell_type": "code",
   "execution_count": null,
   "id": "a464c58c",
   "metadata": {},
   "outputs": [],
   "source": [
    "NAME = \"\"\n",
    "COLLABORATORS = \"\"\n",
    "\n"
   ]
  },
  {
   "cell_type": "markdown",
   "id": "0963c0db",
   "metadata": {},
   "source": [
    "Your project will be an original application of the topics we studied in this class. You have many options for what to do in your project. You could:\n",
    "\n",
    "1. Develop a new lecture on a topic we did not discuss or that goes deeper into a topic we did not discuss. The goal is to teach people about something new.\n",
    "\n",
    "2. You could use what we have done in class to reproduce an analysis in the literature or solve a problem in your research.\n",
    "\n",
    "3. Or something else like these ideas.\n",
    "\n",
    "Eventually you will turn in a PDF that is a full narrative document with the code used to implement your project and give a 10 minute presentation. I am anticipating it will take you 6-8 hours to complete this, and your project scope should match that\n",
    "expectation.\n",
    "\n",
    "The purpose of this assignment is for you to propose an idea for your project to get initial feedback on the idea.\n",
    "\n",
    "Prepare about a 1-page description of what your project will be about. There should be enough detail for me to evaluate its suitability. You could include some pseduocode examples if you want, to illustrate what you are thinking about.\n",
    "\n",
    "You will get feedback on your project proposal in Canvas.\n",
    "\n",
    "I do not want to see projects that look like:\n",
    "\n",
    "- analysis of the stock market, housing prices, wine quality, etc. There should be some relevance to your major.\n",
    "- Summaries of commands from a library, e.g. derivative examples of making plots, using some feature in Pandas,...\n",
    "\n"
   ]
  },
  {
   "cell_type": "markdown",
   "id": "57833f1d-7c91-4bb2-9da6-efe560923531",
   "metadata": {
    "nbgrader": {
     "grade": true,
     "grade_id": "cell-92da3734a5a2e41e",
     "locked": false,
     "points": 0,
     "schema_version": 3,
     "solution": true,
     "task": false
    },
    "tags": []
   },
   "source": [
    "# Summary of project\n",
    "\n",
    "Write a paragraph summary of your project idea.\n",
    "\n"
   ]
  },
  {
   "cell_type": "code",
   "execution_count": null,
   "id": "e382bc3d-9b22-451a-8cc8-186c08e95938",
   "metadata": {},
   "outputs": [],
   "source": []
  },
  {
   "cell_type": "markdown",
   "id": "61a336e4-6b92-4385-ae34-2afc6d2c9a92",
   "metadata": {},
   "source": [
    "# Tasks to be completed and timeline\n",
    "\n",
    "Describe the things you will need to do to complete your project. For each task, estimate how long you think it will take, and when they will be completed by. Estimate the total amount of time you will need to do the project.\n",
    "\n",
    "Include an example of a proof of concept example that would show it is feasible (you do not need to demonstrate that yet, but it is the next assignment to do that)."
   ]
  },
  {
   "cell_type": "code",
   "execution_count": null,
   "id": "5b6b2c53-ebe5-46c6-ab5a-c8837c50cae3",
   "metadata": {},
   "outputs": [],
   "source": []
  },
  {
   "cell_type": "markdown",
   "id": "613d1a50-b2bb-41c8-b643-4883566ecee7",
   "metadata": {},
   "source": [
    "When you are done, download a PDF and turn it in on Canvas. Make sure to save your notebook, then run this cell and click on the download link."
   ]
  },
  {
   "cell_type": "code",
   "execution_count": null,
   "id": "d39da989-d274-4dc2-a01a-51a59375ffd9",
   "metadata": {
    "tags": [
     "raises-exception",
     "remove-output"
    ]
   },
   "outputs": [],
   "source": [
    "%run ~/s24-06642/s24.py\n",
    "%pdf"
   ]
  },
  {
   "cell_type": "markdown",
   "id": "6a974f57-c57c-4441-b2c9-4c6bc4a31ff7",
   "metadata": {},
   "source": [
    "\n",
    "\n"
   ]
  }
 ],
 "metadata": {
  "kernelspec": {
   "display_name": "Python 3",
   "language": "python",
   "name": "python3"
  },
  "language_info": {
   "codemirror_mode": {
    "name": "ipython",
    "version": 3
   },
   "file_extension": ".py",
   "mimetype": "text/x-python",
   "name": "python",
   "nbconvert_exporter": "python",
   "pygments_lexer": "ipython3",
   "version": "3.9.7"
  },
  "widgets": {
   "application/vnd.jupyter.widget-state+json": {
    "state": {},
    "version_major": 2,
    "version_minor": 0
   }
  }
 },
 "nbformat": 4,
 "nbformat_minor": 5
}
